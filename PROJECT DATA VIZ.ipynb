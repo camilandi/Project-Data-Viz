{
 "cells": [
  {
   "cell_type": "code",
   "execution_count": 1,
   "id": "0118c88a",
   "metadata": {},
   "outputs": [],
   "source": [
    "import pandas as pd\n",
    "import numpy as np\n",
    "import matplotlib.pyplot as plt\n",
    "import seaborn as sns\n",
    "import folium \n",
    "from folium import plugins\n",
    "import ipywidgets\n",
    "import geocoder\n",
    "from vega_datasets import data as vds \n",
    "from branca.element import Figure"
   ]
  },
  {
   "cell_type": "markdown",
   "id": "2512bf6c",
   "metadata": {},
   "source": [
    "# Data Frame of Airbnb Listings Data"
   ]
  },
  {
   "cell_type": "code",
   "execution_count": 332,
   "id": "5ce8b028",
   "metadata": {},
   "outputs": [
    {
     "data": {
      "text/html": [
       "<div>\n",
       "<style scoped>\n",
       "    .dataframe tbody tr th:only-of-type {\n",
       "        vertical-align: middle;\n",
       "    }\n",
       "\n",
       "    .dataframe tbody tr th {\n",
       "        vertical-align: top;\n",
       "    }\n",
       "\n",
       "    .dataframe thead th {\n",
       "        text-align: right;\n",
       "    }\n",
       "</style>\n",
       "<table border=\"1\" class=\"dataframe\">\n",
       "  <thead>\n",
       "    <tr style=\"text-align: right;\">\n",
       "      <th></th>\n",
       "      <th>id</th>\n",
       "      <th>name</th>\n",
       "      <th>host_id</th>\n",
       "      <th>host_name</th>\n",
       "      <th>neighbourhood_group</th>\n",
       "      <th>neighbourhood</th>\n",
       "      <th>latitude</th>\n",
       "      <th>longitude</th>\n",
       "      <th>room_type</th>\n",
       "      <th>price</th>\n",
       "      <th>minimum_nights</th>\n",
       "      <th>number_of_reviews</th>\n",
       "      <th>last_review</th>\n",
       "      <th>reviews_per_month</th>\n",
       "      <th>calculated_host_listings_count</th>\n",
       "      <th>availability_365</th>\n",
       "      <th>number_of_reviews_ltm</th>\n",
       "      <th>license</th>\n",
       "    </tr>\n",
       "  </thead>\n",
       "  <tbody>\n",
       "    <tr>\n",
       "      <th>0</th>\n",
       "      <td>77765</td>\n",
       "      <td>Superior @ Box House</td>\n",
       "      <td>417504</td>\n",
       "      <td>The Box House Hotel</td>\n",
       "      <td>Brooklyn</td>\n",
       "      <td>Greenpoint</td>\n",
       "      <td>40.73777</td>\n",
       "      <td>-73.95366</td>\n",
       "      <td>Hotel room</td>\n",
       "      <td>308</td>\n",
       "      <td>2</td>\n",
       "      <td>42</td>\n",
       "      <td>2022-07-18</td>\n",
       "      <td>0.30</td>\n",
       "      <td>30</td>\n",
       "      <td>217</td>\n",
       "      <td>4</td>\n",
       "      <td>NaN</td>\n",
       "    </tr>\n",
       "    <tr>\n",
       "      <th>1</th>\n",
       "      <td>2539</td>\n",
       "      <td>Clean &amp; quiet apt home by the park</td>\n",
       "      <td>2787</td>\n",
       "      <td>John</td>\n",
       "      <td>Brooklyn</td>\n",
       "      <td>Kensington</td>\n",
       "      <td>40.64529</td>\n",
       "      <td>-73.97238</td>\n",
       "      <td>Private room</td>\n",
       "      <td>299</td>\n",
       "      <td>30</td>\n",
       "      <td>9</td>\n",
       "      <td>2018-10-19</td>\n",
       "      <td>0.11</td>\n",
       "      <td>9</td>\n",
       "      <td>356</td>\n",
       "      <td>0</td>\n",
       "      <td>NaN</td>\n",
       "    </tr>\n",
       "    <tr>\n",
       "      <th>2</th>\n",
       "      <td>45910</td>\n",
       "      <td>Beautiful Queens Brownstone! - 5BR</td>\n",
       "      <td>204539</td>\n",
       "      <td>Mark</td>\n",
       "      <td>Queens</td>\n",
       "      <td>Ridgewood</td>\n",
       "      <td>40.70309</td>\n",
       "      <td>-73.89963</td>\n",
       "      <td>Entire home/apt</td>\n",
       "      <td>425</td>\n",
       "      <td>30</td>\n",
       "      <td>13</td>\n",
       "      <td>2019-11-12</td>\n",
       "      <td>0.10</td>\n",
       "      <td>6</td>\n",
       "      <td>365</td>\n",
       "      <td>0</td>\n",
       "      <td>NaN</td>\n",
       "    </tr>\n",
       "    <tr>\n",
       "      <th>3</th>\n",
       "      <td>45935</td>\n",
       "      <td>Room in Beautiful Townhouse.</td>\n",
       "      <td>204586</td>\n",
       "      <td>L</td>\n",
       "      <td>Bronx</td>\n",
       "      <td>Mott Haven</td>\n",
       "      <td>40.80635</td>\n",
       "      <td>-73.92201</td>\n",
       "      <td>Private room</td>\n",
       "      <td>60</td>\n",
       "      <td>30</td>\n",
       "      <td>0</td>\n",
       "      <td>NaN</td>\n",
       "      <td>NaN</td>\n",
       "      <td>1</td>\n",
       "      <td>83</td>\n",
       "      <td>0</td>\n",
       "      <td>NaN</td>\n",
       "    </tr>\n",
       "    <tr>\n",
       "      <th>4</th>\n",
       "      <td>45936</td>\n",
       "      <td>Couldn't Be Closer To Columbia Uni</td>\n",
       "      <td>867225</td>\n",
       "      <td>Rahul</td>\n",
       "      <td>Manhattan</td>\n",
       "      <td>Morningside Heights</td>\n",
       "      <td>40.80630</td>\n",
       "      <td>-73.95985</td>\n",
       "      <td>Private room</td>\n",
       "      <td>75</td>\n",
       "      <td>31</td>\n",
       "      <td>135</td>\n",
       "      <td>2022-07-11</td>\n",
       "      <td>0.95</td>\n",
       "      <td>1</td>\n",
       "      <td>219</td>\n",
       "      <td>4</td>\n",
       "      <td>NaN</td>\n",
       "    </tr>\n",
       "  </tbody>\n",
       "</table>\n",
       "</div>"
      ],
      "text/plain": [
       "      id                                name  host_id            host_name  \\\n",
       "0  77765                Superior @ Box House   417504  The Box House Hotel   \n",
       "1   2539  Clean & quiet apt home by the park     2787                 John   \n",
       "2  45910  Beautiful Queens Brownstone! - 5BR   204539                 Mark   \n",
       "3  45935        Room in Beautiful Townhouse.   204586                    L   \n",
       "4  45936  Couldn't Be Closer To Columbia Uni   867225                Rahul   \n",
       "\n",
       "  neighbourhood_group        neighbourhood  latitude  longitude  \\\n",
       "0            Brooklyn           Greenpoint  40.73777  -73.95366   \n",
       "1            Brooklyn           Kensington  40.64529  -73.97238   \n",
       "2              Queens            Ridgewood  40.70309  -73.89963   \n",
       "3               Bronx           Mott Haven  40.80635  -73.92201   \n",
       "4           Manhattan  Morningside Heights  40.80630  -73.95985   \n",
       "\n",
       "         room_type  price  minimum_nights  number_of_reviews last_review  \\\n",
       "0       Hotel room    308               2                 42  2022-07-18   \n",
       "1     Private room    299              30                  9  2018-10-19   \n",
       "2  Entire home/apt    425              30                 13  2019-11-12   \n",
       "3     Private room     60              30                  0         NaN   \n",
       "4     Private room     75              31                135  2022-07-11   \n",
       "\n",
       "   reviews_per_month  calculated_host_listings_count  availability_365  \\\n",
       "0               0.30                              30               217   \n",
       "1               0.11                               9               356   \n",
       "2               0.10                               6               365   \n",
       "3                NaN                               1                83   \n",
       "4               0.95                               1               219   \n",
       "\n",
       "   number_of_reviews_ltm license  \n",
       "0                      4     NaN  \n",
       "1                      0     NaN  \n",
       "2                      0     NaN  \n",
       "3                      0     NaN  \n",
       "4                      4     NaN  "
      ]
     },
     "execution_count": 332,
     "metadata": {},
     "output_type": "execute_result"
    }
   ],
   "source": [
    "data= pd.read_csv('listings.csv')\n",
    "data.head()"
   ]
  },
  {
   "cell_type": "markdown",
   "id": "1f1df69a",
   "metadata": {},
   "source": [
    "#  Manhattan Location Data"
   ]
  },
  {
   "cell_type": "code",
   "execution_count": 221,
   "id": "437889d0",
   "metadata": {},
   "outputs": [
    {
     "data": {
      "text/html": [
       "<div style=\"width:100%;\"><div style=\"position:relative;width:100%;height:0;padding-bottom:60%;\"><span style=\"color:#565656\">Make this Notebook Trusted to load map: File -> Trust Notebook</span><iframe srcdoc=\"&lt;!DOCTYPE html&gt;\n",
       "&lt;head&gt;    \n",
       "    &lt;meta http-equiv=&quot;content-type&quot; content=&quot;text/html; charset=UTF-8&quot; /&gt;\n",
       "    \n",
       "        &lt;script&gt;\n",
       "            L_NO_TOUCH = false;\n",
       "            L_DISABLE_3D = false;\n",
       "        &lt;/script&gt;\n",
       "    \n",
       "    &lt;style&gt;html, body {width: 100%;height: 100%;margin: 0;padding: 0;}&lt;/style&gt;\n",
       "    &lt;style&gt;#map {position:absolute;top:0;bottom:0;right:0;left:0;}&lt;/style&gt;\n",
       "    &lt;script src=&quot;https://cdn.jsdelivr.net/npm/leaflet@1.6.0/dist/leaflet.js&quot;&gt;&lt;/script&gt;\n",
       "    &lt;script src=&quot;https://code.jquery.com/jquery-1.12.4.min.js&quot;&gt;&lt;/script&gt;\n",
       "    &lt;script src=&quot;https://maxcdn.bootstrapcdn.com/bootstrap/3.2.0/js/bootstrap.min.js&quot;&gt;&lt;/script&gt;\n",
       "    &lt;script src=&quot;https://cdnjs.cloudflare.com/ajax/libs/Leaflet.awesome-markers/2.0.2/leaflet.awesome-markers.js&quot;&gt;&lt;/script&gt;\n",
       "    &lt;link rel=&quot;stylesheet&quot; href=&quot;https://cdn.jsdelivr.net/npm/leaflet@1.6.0/dist/leaflet.css&quot;/&gt;\n",
       "    &lt;link rel=&quot;stylesheet&quot; href=&quot;https://maxcdn.bootstrapcdn.com/bootstrap/3.2.0/css/bootstrap.min.css&quot;/&gt;\n",
       "    &lt;link rel=&quot;stylesheet&quot; href=&quot;https://maxcdn.bootstrapcdn.com/bootstrap/3.2.0/css/bootstrap-theme.min.css&quot;/&gt;\n",
       "    &lt;link rel=&quot;stylesheet&quot; href=&quot;https://maxcdn.bootstrapcdn.com/font-awesome/4.6.3/css/font-awesome.min.css&quot;/&gt;\n",
       "    &lt;link rel=&quot;stylesheet&quot; href=&quot;https://cdnjs.cloudflare.com/ajax/libs/Leaflet.awesome-markers/2.0.2/leaflet.awesome-markers.css&quot;/&gt;\n",
       "    &lt;link rel=&quot;stylesheet&quot; href=&quot;https://cdn.jsdelivr.net/gh/python-visualization/folium/folium/templates/leaflet.awesome.rotate.min.css&quot;/&gt;\n",
       "    \n",
       "            &lt;meta name=&quot;viewport&quot; content=&quot;width=device-width,\n",
       "                initial-scale=1.0, maximum-scale=1.0, user-scalable=no&quot; /&gt;\n",
       "            &lt;style&gt;\n",
       "                #map_7d5f27bda9b582df17c68fc03bb05c4f {\n",
       "                    position: relative;\n",
       "                    width: 100.0%;\n",
       "                    height: 100.0%;\n",
       "                    left: 0.0%;\n",
       "                    top: 0.0%;\n",
       "                }\n",
       "            &lt;/style&gt;\n",
       "        \n",
       "&lt;/head&gt;\n",
       "&lt;body&gt;    \n",
       "    \n",
       "            &lt;div class=&quot;folium-map&quot; id=&quot;map_7d5f27bda9b582df17c68fc03bb05c4f&quot; &gt;&lt;/div&gt;\n",
       "        \n",
       "&lt;/body&gt;\n",
       "&lt;script&gt;    \n",
       "    \n",
       "            var map_7d5f27bda9b582df17c68fc03bb05c4f = L.map(\n",
       "                &quot;map_7d5f27bda9b582df17c68fc03bb05c4f&quot;,\n",
       "                {\n",
       "                    center: [40.7711329, -73.9741874],\n",
       "                    crs: L.CRS.EPSG3857,\n",
       "                    zoom: 15,\n",
       "                    zoomControl: true,\n",
       "                    preferCanvas: false,\n",
       "                }\n",
       "            );\n",
       "\n",
       "            \n",
       "\n",
       "        \n",
       "    \n",
       "            var tile_layer_6dd58a9ed561cbcf8d6b5fead4f6afcf = L.tileLayer(\n",
       "                &quot;https://{s}.tile.openstreetmap.org/{z}/{x}/{y}.png&quot;,\n",
       "                {&quot;attribution&quot;: &quot;Data by \\u0026copy; \\u003ca href=\\&quot;http://openstreetmap.org\\&quot;\\u003eOpenStreetMap\\u003c/a\\u003e, under \\u003ca href=\\&quot;http://www.openstreetmap.org/copyright\\&quot;\\u003eODbL\\u003c/a\\u003e.&quot;, &quot;detectRetina&quot;: false, &quot;maxNativeZoom&quot;: 18, &quot;maxZoom&quot;: 18, &quot;minZoom&quot;: 0, &quot;noWrap&quot;: false, &quot;opacity&quot;: 1, &quot;subdomains&quot;: &quot;abc&quot;, &quot;tms&quot;: false}\n",
       "            ).addTo(map_7d5f27bda9b582df17c68fc03bb05c4f);\n",
       "        \n",
       "&lt;/script&gt;\" style=\"position:absolute;width:100%;height:100%;left:0;top:0;border:none !important;\" allowfullscreen webkitallowfullscreen mozallowfullscreen></iframe></div></div>"
      ],
      "text/plain": [
       "<folium.folium.Map at 0x7fcb9b7341c0>"
      ]
     },
     "execution_count": 221,
     "metadata": {},
     "output_type": "execute_result"
    }
   ],
   "source": [
    "Manhattan = folium.Map(\n",
    "    location=[40.7711329,-73.9741874], zoom_start= 15\n",
    "\n",
    "\n",
    ")\n",
    "\n",
    "Manhattan\n"
   ]
  },
  {
   "cell_type": "markdown",
   "id": "95452c56",
   "metadata": {},
   "source": [
    "# Brooklyn Location Data"
   ]
  },
  {
   "cell_type": "code",
   "execution_count": 222,
   "id": "0601b1bf",
   "metadata": {},
   "outputs": [
    {
     "data": {
      "text/html": [
       "<div style=\"width:100%;\"><div style=\"position:relative;width:100%;height:0;padding-bottom:60%;\"><span style=\"color:#565656\">Make this Notebook Trusted to load map: File -> Trust Notebook</span><iframe srcdoc=\"&lt;!DOCTYPE html&gt;\n",
       "&lt;head&gt;    \n",
       "    &lt;meta http-equiv=&quot;content-type&quot; content=&quot;text/html; charset=UTF-8&quot; /&gt;\n",
       "    \n",
       "        &lt;script&gt;\n",
       "            L_NO_TOUCH = false;\n",
       "            L_DISABLE_3D = false;\n",
       "        &lt;/script&gt;\n",
       "    \n",
       "    &lt;style&gt;html, body {width: 100%;height: 100%;margin: 0;padding: 0;}&lt;/style&gt;\n",
       "    &lt;style&gt;#map {position:absolute;top:0;bottom:0;right:0;left:0;}&lt;/style&gt;\n",
       "    &lt;script src=&quot;https://cdn.jsdelivr.net/npm/leaflet@1.6.0/dist/leaflet.js&quot;&gt;&lt;/script&gt;\n",
       "    &lt;script src=&quot;https://code.jquery.com/jquery-1.12.4.min.js&quot;&gt;&lt;/script&gt;\n",
       "    &lt;script src=&quot;https://maxcdn.bootstrapcdn.com/bootstrap/3.2.0/js/bootstrap.min.js&quot;&gt;&lt;/script&gt;\n",
       "    &lt;script src=&quot;https://cdnjs.cloudflare.com/ajax/libs/Leaflet.awesome-markers/2.0.2/leaflet.awesome-markers.js&quot;&gt;&lt;/script&gt;\n",
       "    &lt;link rel=&quot;stylesheet&quot; href=&quot;https://cdn.jsdelivr.net/npm/leaflet@1.6.0/dist/leaflet.css&quot;/&gt;\n",
       "    &lt;link rel=&quot;stylesheet&quot; href=&quot;https://maxcdn.bootstrapcdn.com/bootstrap/3.2.0/css/bootstrap.min.css&quot;/&gt;\n",
       "    &lt;link rel=&quot;stylesheet&quot; href=&quot;https://maxcdn.bootstrapcdn.com/bootstrap/3.2.0/css/bootstrap-theme.min.css&quot;/&gt;\n",
       "    &lt;link rel=&quot;stylesheet&quot; href=&quot;https://maxcdn.bootstrapcdn.com/font-awesome/4.6.3/css/font-awesome.min.css&quot;/&gt;\n",
       "    &lt;link rel=&quot;stylesheet&quot; href=&quot;https://cdnjs.cloudflare.com/ajax/libs/Leaflet.awesome-markers/2.0.2/leaflet.awesome-markers.css&quot;/&gt;\n",
       "    &lt;link rel=&quot;stylesheet&quot; href=&quot;https://cdn.jsdelivr.net/gh/python-visualization/folium/folium/templates/leaflet.awesome.rotate.min.css&quot;/&gt;\n",
       "    \n",
       "            &lt;meta name=&quot;viewport&quot; content=&quot;width=device-width,\n",
       "                initial-scale=1.0, maximum-scale=1.0, user-scalable=no&quot; /&gt;\n",
       "            &lt;style&gt;\n",
       "                #map_65c71a50ffa8cce974ec699c65edf565 {\n",
       "                    position: relative;\n",
       "                    width: 100.0%;\n",
       "                    height: 100.0%;\n",
       "                    left: 0.0%;\n",
       "                    top: 0.0%;\n",
       "                }\n",
       "            &lt;/style&gt;\n",
       "        \n",
       "&lt;/head&gt;\n",
       "&lt;body&gt;    \n",
       "    \n",
       "            &lt;div class=&quot;folium-map&quot; id=&quot;map_65c71a50ffa8cce974ec699c65edf565&quot; &gt;&lt;/div&gt;\n",
       "        \n",
       "&lt;/body&gt;\n",
       "&lt;script&gt;    \n",
       "    \n",
       "            var map_65c71a50ffa8cce974ec699c65edf565 = L.map(\n",
       "                &quot;map_65c71a50ffa8cce974ec699c65edf565&quot;,\n",
       "                {\n",
       "                    center: [40.6781784, -73.9441579],\n",
       "                    crs: L.CRS.EPSG3857,\n",
       "                    zoom: 15,\n",
       "                    zoomControl: true,\n",
       "                    preferCanvas: false,\n",
       "                }\n",
       "            );\n",
       "\n",
       "            \n",
       "\n",
       "        \n",
       "    \n",
       "            var tile_layer_c754c6f3e9434ec7723ceb82b898de09 = L.tileLayer(\n",
       "                &quot;https://{s}.tile.openstreetmap.org/{z}/{x}/{y}.png&quot;,\n",
       "                {&quot;attribution&quot;: &quot;Data by \\u0026copy; \\u003ca href=\\&quot;http://openstreetmap.org\\&quot;\\u003eOpenStreetMap\\u003c/a\\u003e, under \\u003ca href=\\&quot;http://www.openstreetmap.org/copyright\\&quot;\\u003eODbL\\u003c/a\\u003e.&quot;, &quot;detectRetina&quot;: false, &quot;maxNativeZoom&quot;: 18, &quot;maxZoom&quot;: 18, &quot;minZoom&quot;: 0, &quot;noWrap&quot;: false, &quot;opacity&quot;: 1, &quot;subdomains&quot;: &quot;abc&quot;, &quot;tms&quot;: false}\n",
       "            ).addTo(map_65c71a50ffa8cce974ec699c65edf565);\n",
       "        \n",
       "&lt;/script&gt;\" style=\"position:absolute;width:100%;height:100%;left:0;top:0;border:none !important;\" allowfullscreen webkitallowfullscreen mozallowfullscreen></iframe></div></div>"
      ],
      "text/plain": [
       "<folium.folium.Map at 0x7fcb9bdedd00>"
      ]
     },
     "execution_count": 222,
     "metadata": {},
     "output_type": "execute_result"
    }
   ],
   "source": [
    "Brooklyn = folium.Map(\n",
    "    location=[40.6781784,-73.9441579], zoom_start= 15\n",
    "\n",
    "\n",
    ")\n",
    "\n",
    "Brooklyn"
   ]
  },
  {
   "cell_type": "markdown",
   "id": "bd22da15",
   "metadata": {},
   "source": [
    "# Queens Location Data"
   ]
  },
  {
   "cell_type": "code",
   "execution_count": 223,
   "id": "b38f3092",
   "metadata": {
    "scrolled": true
   },
   "outputs": [
    {
     "data": {
      "text/html": [
       "<div style=\"width:100%;\"><div style=\"position:relative;width:100%;height:0;padding-bottom:60%;\"><span style=\"color:#565656\">Make this Notebook Trusted to load map: File -> Trust Notebook</span><iframe srcdoc=\"&lt;!DOCTYPE html&gt;\n",
       "&lt;head&gt;    \n",
       "    &lt;meta http-equiv=&quot;content-type&quot; content=&quot;text/html; charset=UTF-8&quot; /&gt;\n",
       "    \n",
       "        &lt;script&gt;\n",
       "            L_NO_TOUCH = false;\n",
       "            L_DISABLE_3D = false;\n",
       "        &lt;/script&gt;\n",
       "    \n",
       "    &lt;style&gt;html, body {width: 100%;height: 100%;margin: 0;padding: 0;}&lt;/style&gt;\n",
       "    &lt;style&gt;#map {position:absolute;top:0;bottom:0;right:0;left:0;}&lt;/style&gt;\n",
       "    &lt;script src=&quot;https://cdn.jsdelivr.net/npm/leaflet@1.6.0/dist/leaflet.js&quot;&gt;&lt;/script&gt;\n",
       "    &lt;script src=&quot;https://code.jquery.com/jquery-1.12.4.min.js&quot;&gt;&lt;/script&gt;\n",
       "    &lt;script src=&quot;https://maxcdn.bootstrapcdn.com/bootstrap/3.2.0/js/bootstrap.min.js&quot;&gt;&lt;/script&gt;\n",
       "    &lt;script src=&quot;https://cdnjs.cloudflare.com/ajax/libs/Leaflet.awesome-markers/2.0.2/leaflet.awesome-markers.js&quot;&gt;&lt;/script&gt;\n",
       "    &lt;link rel=&quot;stylesheet&quot; href=&quot;https://cdn.jsdelivr.net/npm/leaflet@1.6.0/dist/leaflet.css&quot;/&gt;\n",
       "    &lt;link rel=&quot;stylesheet&quot; href=&quot;https://maxcdn.bootstrapcdn.com/bootstrap/3.2.0/css/bootstrap.min.css&quot;/&gt;\n",
       "    &lt;link rel=&quot;stylesheet&quot; href=&quot;https://maxcdn.bootstrapcdn.com/bootstrap/3.2.0/css/bootstrap-theme.min.css&quot;/&gt;\n",
       "    &lt;link rel=&quot;stylesheet&quot; href=&quot;https://maxcdn.bootstrapcdn.com/font-awesome/4.6.3/css/font-awesome.min.css&quot;/&gt;\n",
       "    &lt;link rel=&quot;stylesheet&quot; href=&quot;https://cdnjs.cloudflare.com/ajax/libs/Leaflet.awesome-markers/2.0.2/leaflet.awesome-markers.css&quot;/&gt;\n",
       "    &lt;link rel=&quot;stylesheet&quot; href=&quot;https://cdn.jsdelivr.net/gh/python-visualization/folium/folium/templates/leaflet.awesome.rotate.min.css&quot;/&gt;\n",
       "    \n",
       "            &lt;meta name=&quot;viewport&quot; content=&quot;width=device-width,\n",
       "                initial-scale=1.0, maximum-scale=1.0, user-scalable=no&quot; /&gt;\n",
       "            &lt;style&gt;\n",
       "                #map_4618a21d4d2bae3e9be00ebf2f748892 {\n",
       "                    position: relative;\n",
       "                    width: 100.0%;\n",
       "                    height: 100.0%;\n",
       "                    left: 0.0%;\n",
       "                    top: 0.0%;\n",
       "                }\n",
       "            &lt;/style&gt;\n",
       "        \n",
       "&lt;/head&gt;\n",
       "&lt;body&gt;    \n",
       "    \n",
       "            &lt;div class=&quot;folium-map&quot; id=&quot;map_4618a21d4d2bae3e9be00ebf2f748892&quot; &gt;&lt;/div&gt;\n",
       "        \n",
       "&lt;/body&gt;\n",
       "&lt;script&gt;    \n",
       "    \n",
       "            var map_4618a21d4d2bae3e9be00ebf2f748892 = L.map(\n",
       "                &quot;map_4618a21d4d2bae3e9be00ebf2f748892&quot;,\n",
       "                {\n",
       "                    center: [40.75, -73.866667],\n",
       "                    crs: L.CRS.EPSG3857,\n",
       "                    zoom: 15,\n",
       "                    zoomControl: true,\n",
       "                    preferCanvas: false,\n",
       "                }\n",
       "            );\n",
       "\n",
       "            \n",
       "\n",
       "        \n",
       "    \n",
       "            var tile_layer_3732cf102d8f863a7be6bad063a3cccf = L.tileLayer(\n",
       "                &quot;https://{s}.tile.openstreetmap.org/{z}/{x}/{y}.png&quot;,\n",
       "                {&quot;attribution&quot;: &quot;Data by \\u0026copy; \\u003ca href=\\&quot;http://openstreetmap.org\\&quot;\\u003eOpenStreetMap\\u003c/a\\u003e, under \\u003ca href=\\&quot;http://www.openstreetmap.org/copyright\\&quot;\\u003eODbL\\u003c/a\\u003e.&quot;, &quot;detectRetina&quot;: false, &quot;maxNativeZoom&quot;: 18, &quot;maxZoom&quot;: 18, &quot;minZoom&quot;: 0, &quot;noWrap&quot;: false, &quot;opacity&quot;: 1, &quot;subdomains&quot;: &quot;abc&quot;, &quot;tms&quot;: false}\n",
       "            ).addTo(map_4618a21d4d2bae3e9be00ebf2f748892);\n",
       "        \n",
       "&lt;/script&gt;\" style=\"position:absolute;width:100%;height:100%;left:0;top:0;border:none !important;\" allowfullscreen webkitallowfullscreen mozallowfullscreen></iframe></div></div>"
      ],
      "text/plain": [
       "<folium.folium.Map at 0x7fcb9c3a0730>"
      ]
     },
     "execution_count": 223,
     "metadata": {},
     "output_type": "execute_result"
    }
   ],
   "source": [
    "Queens = folium.Map(\n",
    "    location=[40.75,-73.866667], zoom_start= 15\n",
    "\n",
    "\n",
    ")\n",
    "\n",
    "Queens"
   ]
  },
  {
   "cell_type": "markdown",
   "id": "4b96b46c",
   "metadata": {},
   "source": [
    "# Bronx Location Data"
   ]
  },
  {
   "cell_type": "code",
   "execution_count": 224,
   "id": "fc8462fd",
   "metadata": {},
   "outputs": [
    {
     "data": {
      "text/html": [
       "<div style=\"width:100%;\"><div style=\"position:relative;width:100%;height:0;padding-bottom:60%;\"><span style=\"color:#565656\">Make this Notebook Trusted to load map: File -> Trust Notebook</span><iframe srcdoc=\"&lt;!DOCTYPE html&gt;\n",
       "&lt;head&gt;    \n",
       "    &lt;meta http-equiv=&quot;content-type&quot; content=&quot;text/html; charset=UTF-8&quot; /&gt;\n",
       "    \n",
       "        &lt;script&gt;\n",
       "            L_NO_TOUCH = false;\n",
       "            L_DISABLE_3D = false;\n",
       "        &lt;/script&gt;\n",
       "    \n",
       "    &lt;style&gt;html, body {width: 100%;height: 100%;margin: 0;padding: 0;}&lt;/style&gt;\n",
       "    &lt;style&gt;#map {position:absolute;top:0;bottom:0;right:0;left:0;}&lt;/style&gt;\n",
       "    &lt;script src=&quot;https://cdn.jsdelivr.net/npm/leaflet@1.6.0/dist/leaflet.js&quot;&gt;&lt;/script&gt;\n",
       "    &lt;script src=&quot;https://code.jquery.com/jquery-1.12.4.min.js&quot;&gt;&lt;/script&gt;\n",
       "    &lt;script src=&quot;https://maxcdn.bootstrapcdn.com/bootstrap/3.2.0/js/bootstrap.min.js&quot;&gt;&lt;/script&gt;\n",
       "    &lt;script src=&quot;https://cdnjs.cloudflare.com/ajax/libs/Leaflet.awesome-markers/2.0.2/leaflet.awesome-markers.js&quot;&gt;&lt;/script&gt;\n",
       "    &lt;link rel=&quot;stylesheet&quot; href=&quot;https://cdn.jsdelivr.net/npm/leaflet@1.6.0/dist/leaflet.css&quot;/&gt;\n",
       "    &lt;link rel=&quot;stylesheet&quot; href=&quot;https://maxcdn.bootstrapcdn.com/bootstrap/3.2.0/css/bootstrap.min.css&quot;/&gt;\n",
       "    &lt;link rel=&quot;stylesheet&quot; href=&quot;https://maxcdn.bootstrapcdn.com/bootstrap/3.2.0/css/bootstrap-theme.min.css&quot;/&gt;\n",
       "    &lt;link rel=&quot;stylesheet&quot; href=&quot;https://maxcdn.bootstrapcdn.com/font-awesome/4.6.3/css/font-awesome.min.css&quot;/&gt;\n",
       "    &lt;link rel=&quot;stylesheet&quot; href=&quot;https://cdnjs.cloudflare.com/ajax/libs/Leaflet.awesome-markers/2.0.2/leaflet.awesome-markers.css&quot;/&gt;\n",
       "    &lt;link rel=&quot;stylesheet&quot; href=&quot;https://cdn.jsdelivr.net/gh/python-visualization/folium/folium/templates/leaflet.awesome.rotate.min.css&quot;/&gt;\n",
       "    \n",
       "            &lt;meta name=&quot;viewport&quot; content=&quot;width=device-width,\n",
       "                initial-scale=1.0, maximum-scale=1.0, user-scalable=no&quot; /&gt;\n",
       "            &lt;style&gt;\n",
       "                #map_340995b1fa004ad4b2ca248feb4469c9 {\n",
       "                    position: relative;\n",
       "                    width: 100.0%;\n",
       "                    height: 100.0%;\n",
       "                    left: 0.0%;\n",
       "                    top: 0.0%;\n",
       "                }\n",
       "            &lt;/style&gt;\n",
       "        \n",
       "&lt;/head&gt;\n",
       "&lt;body&gt;    \n",
       "    \n",
       "            &lt;div class=&quot;folium-map&quot; id=&quot;map_340995b1fa004ad4b2ca248feb4469c9&quot; &gt;&lt;/div&gt;\n",
       "        \n",
       "&lt;/body&gt;\n",
       "&lt;script&gt;    \n",
       "    \n",
       "            var map_340995b1fa004ad4b2ca248feb4469c9 = L.map(\n",
       "                &quot;map_340995b1fa004ad4b2ca248feb4469c9&quot;,\n",
       "                {\n",
       "                    center: [40.844782, -73.864827],\n",
       "                    crs: L.CRS.EPSG3857,\n",
       "                    zoom: 15,\n",
       "                    zoomControl: true,\n",
       "                    preferCanvas: false,\n",
       "                }\n",
       "            );\n",
       "\n",
       "            \n",
       "\n",
       "        \n",
       "    \n",
       "            var tile_layer_df5751fb98e8d6a58ee2a9c89fd9fdab = L.tileLayer(\n",
       "                &quot;https://{s}.tile.openstreetmap.org/{z}/{x}/{y}.png&quot;,\n",
       "                {&quot;attribution&quot;: &quot;Data by \\u0026copy; \\u003ca href=\\&quot;http://openstreetmap.org\\&quot;\\u003eOpenStreetMap\\u003c/a\\u003e, under \\u003ca href=\\&quot;http://www.openstreetmap.org/copyright\\&quot;\\u003eODbL\\u003c/a\\u003e.&quot;, &quot;detectRetina&quot;: false, &quot;maxNativeZoom&quot;: 18, &quot;maxZoom&quot;: 18, &quot;minZoom&quot;: 0, &quot;noWrap&quot;: false, &quot;opacity&quot;: 1, &quot;subdomains&quot;: &quot;abc&quot;, &quot;tms&quot;: false}\n",
       "            ).addTo(map_340995b1fa004ad4b2ca248feb4469c9);\n",
       "        \n",
       "&lt;/script&gt;\" style=\"position:absolute;width:100%;height:100%;left:0;top:0;border:none !important;\" allowfullscreen webkitallowfullscreen mozallowfullscreen></iframe></div></div>"
      ],
      "text/plain": [
       "<folium.folium.Map at 0x7fcb9bde5a60>"
      ]
     },
     "execution_count": 224,
     "metadata": {},
     "output_type": "execute_result"
    }
   ],
   "source": [
    "Bronx = folium.Map(\n",
    "    location=[40.844782,-73.864827], zoom_start= 15\n",
    "\n",
    "\n",
    ")\n",
    "\n",
    "Bronx"
   ]
  },
  {
   "cell_type": "markdown",
   "id": "752c5a73",
   "metadata": {},
   "source": [
    "# Staten Island Location Data"
   ]
  },
  {
   "cell_type": "code",
   "execution_count": 225,
   "id": "87f4f3a3",
   "metadata": {},
   "outputs": [
    {
     "data": {
      "text/html": [
       "<div style=\"width:100%;\"><div style=\"position:relative;width:100%;height:0;padding-bottom:60%;\"><span style=\"color:#565656\">Make this Notebook Trusted to load map: File -> Trust Notebook</span><iframe srcdoc=\"&lt;!DOCTYPE html&gt;\n",
       "&lt;head&gt;    \n",
       "    &lt;meta http-equiv=&quot;content-type&quot; content=&quot;text/html; charset=UTF-8&quot; /&gt;\n",
       "    \n",
       "        &lt;script&gt;\n",
       "            L_NO_TOUCH = false;\n",
       "            L_DISABLE_3D = false;\n",
       "        &lt;/script&gt;\n",
       "    \n",
       "    &lt;style&gt;html, body {width: 100%;height: 100%;margin: 0;padding: 0;}&lt;/style&gt;\n",
       "    &lt;style&gt;#map {position:absolute;top:0;bottom:0;right:0;left:0;}&lt;/style&gt;\n",
       "    &lt;script src=&quot;https://cdn.jsdelivr.net/npm/leaflet@1.6.0/dist/leaflet.js&quot;&gt;&lt;/script&gt;\n",
       "    &lt;script src=&quot;https://code.jquery.com/jquery-1.12.4.min.js&quot;&gt;&lt;/script&gt;\n",
       "    &lt;script src=&quot;https://maxcdn.bootstrapcdn.com/bootstrap/3.2.0/js/bootstrap.min.js&quot;&gt;&lt;/script&gt;\n",
       "    &lt;script src=&quot;https://cdnjs.cloudflare.com/ajax/libs/Leaflet.awesome-markers/2.0.2/leaflet.awesome-markers.js&quot;&gt;&lt;/script&gt;\n",
       "    &lt;link rel=&quot;stylesheet&quot; href=&quot;https://cdn.jsdelivr.net/npm/leaflet@1.6.0/dist/leaflet.css&quot;/&gt;\n",
       "    &lt;link rel=&quot;stylesheet&quot; href=&quot;https://maxcdn.bootstrapcdn.com/bootstrap/3.2.0/css/bootstrap.min.css&quot;/&gt;\n",
       "    &lt;link rel=&quot;stylesheet&quot; href=&quot;https://maxcdn.bootstrapcdn.com/bootstrap/3.2.0/css/bootstrap-theme.min.css&quot;/&gt;\n",
       "    &lt;link rel=&quot;stylesheet&quot; href=&quot;https://maxcdn.bootstrapcdn.com/font-awesome/4.6.3/css/font-awesome.min.css&quot;/&gt;\n",
       "    &lt;link rel=&quot;stylesheet&quot; href=&quot;https://cdnjs.cloudflare.com/ajax/libs/Leaflet.awesome-markers/2.0.2/leaflet.awesome-markers.css&quot;/&gt;\n",
       "    &lt;link rel=&quot;stylesheet&quot; href=&quot;https://cdn.jsdelivr.net/gh/python-visualization/folium/folium/templates/leaflet.awesome.rotate.min.css&quot;/&gt;\n",
       "    \n",
       "            &lt;meta name=&quot;viewport&quot; content=&quot;width=device-width,\n",
       "                initial-scale=1.0, maximum-scale=1.0, user-scalable=no&quot; /&gt;\n",
       "            &lt;style&gt;\n",
       "                #map_a08f6f6c255259fdff4f444cf637bfd0 {\n",
       "                    position: relative;\n",
       "                    width: 100.0%;\n",
       "                    height: 100.0%;\n",
       "                    left: 0.0%;\n",
       "                    top: 0.0%;\n",
       "                }\n",
       "            &lt;/style&gt;\n",
       "        \n",
       "&lt;/head&gt;\n",
       "&lt;body&gt;    \n",
       "    \n",
       "            &lt;div class=&quot;folium-map&quot; id=&quot;map_a08f6f6c255259fdff4f444cf637bfd0&quot; &gt;&lt;/div&gt;\n",
       "        \n",
       "&lt;/body&gt;\n",
       "&lt;script&gt;    \n",
       "    \n",
       "            var map_a08f6f6c255259fdff4f444cf637bfd0 = L.map(\n",
       "                &quot;map_a08f6f6c255259fdff4f444cf637bfd0&quot;,\n",
       "                {\n",
       "                    center: [40.5795317, -74.15020070000003],\n",
       "                    crs: L.CRS.EPSG3857,\n",
       "                    zoom: 15,\n",
       "                    zoomControl: true,\n",
       "                    preferCanvas: false,\n",
       "                }\n",
       "            );\n",
       "\n",
       "            \n",
       "\n",
       "        \n",
       "    \n",
       "            var tile_layer_af188087f82154119b8b94ba1f438cb1 = L.tileLayer(\n",
       "                &quot;https://{s}.tile.openstreetmap.org/{z}/{x}/{y}.png&quot;,\n",
       "                {&quot;attribution&quot;: &quot;Data by \\u0026copy; \\u003ca href=\\&quot;http://openstreetmap.org\\&quot;\\u003eOpenStreetMap\\u003c/a\\u003e, under \\u003ca href=\\&quot;http://www.openstreetmap.org/copyright\\&quot;\\u003eODbL\\u003c/a\\u003e.&quot;, &quot;detectRetina&quot;: false, &quot;maxNativeZoom&quot;: 18, &quot;maxZoom&quot;: 18, &quot;minZoom&quot;: 0, &quot;noWrap&quot;: false, &quot;opacity&quot;: 1, &quot;subdomains&quot;: &quot;abc&quot;, &quot;tms&quot;: false}\n",
       "            ).addTo(map_a08f6f6c255259fdff4f444cf637bfd0);\n",
       "        \n",
       "&lt;/script&gt;\" style=\"position:absolute;width:100%;height:100%;left:0;top:0;border:none !important;\" allowfullscreen webkitallowfullscreen mozallowfullscreen></iframe></div></div>"
      ],
      "text/plain": [
       "<folium.folium.Map at 0x7fcb9c3a86d0>"
      ]
     },
     "execution_count": 225,
     "metadata": {},
     "output_type": "execute_result"
    }
   ],
   "source": [
    "StatenIsland = folium.Map(\n",
    "    location=[40.5795317,-74.15020070000003], zoom_start= 15\n",
    "\n",
    "\n",
    ")\n",
    "\n",
    "StatenIsland"
   ]
  },
  {
   "cell_type": "code",
   "execution_count": 226,
   "id": "51a66254",
   "metadata": {},
   "outputs": [],
   "source": [
    "NewYork = folium.Map(location=[40.689247,-74.044502], zoom_start= 10)"
   ]
  },
  {
   "cell_type": "code",
   "execution_count": 227,
   "id": "3573c634",
   "metadata": {
    "scrolled": false
   },
   "outputs": [
    {
     "data": {
      "text/plain": [
       "<folium.map.Marker at 0x7fcb9c34b880>"
      ]
     },
     "execution_count": 227,
     "metadata": {},
     "output_type": "execute_result"
    }
   ],
   "source": [
    "dirman=geocoder.osm('Central Park, Manhattan, NY')\n",
    "dirbro=geocoder.osm('Brooklyn Mall, Brooklyn, NY')\n",
    "dirque=geocoder.osm('Queens, Queens, NY')\n",
    "dirbrx=geocoder.osm('Bronx Zoo, Bronx, NY')\n",
    "dirsta=geocoder.osm('La Tourette Park, Staten Island, NY')\n",
    "\n",
    "lat_longman=[dirman.lat,dirman.lng]\n",
    "lat_longbro=[dirbro.lat,dirbro.lng]\n",
    "lat_longque=[dirque.lat,dirque.lng]\n",
    "lat_longbrx=[dirbrx.lat,dirbrx.lng]\n",
    "lat_longsta=[dirsta.lat,dirsta.lng]\n",
    "\n",
    "folium.Marker(lat_longman,popup='Manhattan').add_to(NewYork)\n",
    "folium.Marker(lat_longbro,popup='Brooklyn').add_to(NewYork)\n",
    "folium.Marker(lat_longque,popup='Queens').add_to(NewYork)\n",
    "folium.Marker(lat_longbrx,popup='Bronx').add_to(NewYork)\n",
    "folium.Marker(lat_longsta,popup='Staten Island').add_to(NewYork)"
   ]
  },
  {
   "cell_type": "markdown",
   "id": "54694630",
   "metadata": {},
   "source": [
    "# NYC Neighborhoods"
   ]
  },
  {
   "cell_type": "code",
   "execution_count": 228,
   "id": "c4c6ad09",
   "metadata": {
    "scrolled": true
   },
   "outputs": [
    {
     "data": {
      "text/html": [
       "<div style=\"width:100%;\"><div style=\"position:relative;width:100%;height:0;padding-bottom:60%;\"><span style=\"color:#565656\">Make this Notebook Trusted to load map: File -> Trust Notebook</span><iframe srcdoc=\"&lt;!DOCTYPE html&gt;\n",
       "&lt;head&gt;    \n",
       "    &lt;meta http-equiv=&quot;content-type&quot; content=&quot;text/html; charset=UTF-8&quot; /&gt;\n",
       "    \n",
       "        &lt;script&gt;\n",
       "            L_NO_TOUCH = false;\n",
       "            L_DISABLE_3D = false;\n",
       "        &lt;/script&gt;\n",
       "    \n",
       "    &lt;style&gt;html, body {width: 100%;height: 100%;margin: 0;padding: 0;}&lt;/style&gt;\n",
       "    &lt;style&gt;#map {position:absolute;top:0;bottom:0;right:0;left:0;}&lt;/style&gt;\n",
       "    &lt;script src=&quot;https://cdn.jsdelivr.net/npm/leaflet@1.6.0/dist/leaflet.js&quot;&gt;&lt;/script&gt;\n",
       "    &lt;script src=&quot;https://code.jquery.com/jquery-1.12.4.min.js&quot;&gt;&lt;/script&gt;\n",
       "    &lt;script src=&quot;https://maxcdn.bootstrapcdn.com/bootstrap/3.2.0/js/bootstrap.min.js&quot;&gt;&lt;/script&gt;\n",
       "    &lt;script src=&quot;https://cdnjs.cloudflare.com/ajax/libs/Leaflet.awesome-markers/2.0.2/leaflet.awesome-markers.js&quot;&gt;&lt;/script&gt;\n",
       "    &lt;link rel=&quot;stylesheet&quot; href=&quot;https://cdn.jsdelivr.net/npm/leaflet@1.6.0/dist/leaflet.css&quot;/&gt;\n",
       "    &lt;link rel=&quot;stylesheet&quot; href=&quot;https://maxcdn.bootstrapcdn.com/bootstrap/3.2.0/css/bootstrap.min.css&quot;/&gt;\n",
       "    &lt;link rel=&quot;stylesheet&quot; href=&quot;https://maxcdn.bootstrapcdn.com/bootstrap/3.2.0/css/bootstrap-theme.min.css&quot;/&gt;\n",
       "    &lt;link rel=&quot;stylesheet&quot; href=&quot;https://maxcdn.bootstrapcdn.com/font-awesome/4.6.3/css/font-awesome.min.css&quot;/&gt;\n",
       "    &lt;link rel=&quot;stylesheet&quot; href=&quot;https://cdnjs.cloudflare.com/ajax/libs/Leaflet.awesome-markers/2.0.2/leaflet.awesome-markers.css&quot;/&gt;\n",
       "    &lt;link rel=&quot;stylesheet&quot; href=&quot;https://cdn.jsdelivr.net/gh/python-visualization/folium/folium/templates/leaflet.awesome.rotate.min.css&quot;/&gt;\n",
       "    \n",
       "            &lt;meta name=&quot;viewport&quot; content=&quot;width=device-width,\n",
       "                initial-scale=1.0, maximum-scale=1.0, user-scalable=no&quot; /&gt;\n",
       "            &lt;style&gt;\n",
       "                #map_5134471106dc0d7d89f08442736d4c43 {\n",
       "                    position: relative;\n",
       "                    width: 100.0%;\n",
       "                    height: 100.0%;\n",
       "                    left: 0.0%;\n",
       "                    top: 0.0%;\n",
       "                }\n",
       "            &lt;/style&gt;\n",
       "        \n",
       "&lt;/head&gt;\n",
       "&lt;body&gt;    \n",
       "    \n",
       "            &lt;div class=&quot;folium-map&quot; id=&quot;map_5134471106dc0d7d89f08442736d4c43&quot; &gt;&lt;/div&gt;\n",
       "        \n",
       "&lt;/body&gt;\n",
       "&lt;script&gt;    \n",
       "    \n",
       "            var map_5134471106dc0d7d89f08442736d4c43 = L.map(\n",
       "                &quot;map_5134471106dc0d7d89f08442736d4c43&quot;,\n",
       "                {\n",
       "                    center: [40.689247, -74.044502],\n",
       "                    crs: L.CRS.EPSG3857,\n",
       "                    zoom: 10,\n",
       "                    zoomControl: true,\n",
       "                    preferCanvas: false,\n",
       "                }\n",
       "            );\n",
       "\n",
       "            \n",
       "\n",
       "        \n",
       "    \n",
       "            var tile_layer_c9356ce6c5780cbb16a43e16883bc719 = L.tileLayer(\n",
       "                &quot;https://{s}.tile.openstreetmap.org/{z}/{x}/{y}.png&quot;,\n",
       "                {&quot;attribution&quot;: &quot;Data by \\u0026copy; \\u003ca href=\\&quot;http://openstreetmap.org\\&quot;\\u003eOpenStreetMap\\u003c/a\\u003e, under \\u003ca href=\\&quot;http://www.openstreetmap.org/copyright\\&quot;\\u003eODbL\\u003c/a\\u003e.&quot;, &quot;detectRetina&quot;: false, &quot;maxNativeZoom&quot;: 18, &quot;maxZoom&quot;: 18, &quot;minZoom&quot;: 0, &quot;noWrap&quot;: false, &quot;opacity&quot;: 1, &quot;subdomains&quot;: &quot;abc&quot;, &quot;tms&quot;: false}\n",
       "            ).addTo(map_5134471106dc0d7d89f08442736d4c43);\n",
       "        \n",
       "    \n",
       "            var marker_708bc052356fd974c133d3ea8dd4a94b = L.marker(\n",
       "                [40.7827725, -73.9653627406542],\n",
       "                {}\n",
       "            ).addTo(map_5134471106dc0d7d89f08442736d4c43);\n",
       "        \n",
       "    \n",
       "        var popup_2b01cc4a23ac78187d2980b81e24c872 = L.popup({&quot;maxWidth&quot;: &quot;100%&quot;});\n",
       "\n",
       "        \n",
       "            var html_549f541ebba04be436aeb51dbea8a2e8 = $(`&lt;div id=&quot;html_549f541ebba04be436aeb51dbea8a2e8&quot; style=&quot;width: 100.0%; height: 100.0%;&quot;&gt;Manhattan&lt;/div&gt;`)[0];\n",
       "            popup_2b01cc4a23ac78187d2980b81e24c872.setContent(html_549f541ebba04be436aeb51dbea8a2e8);\n",
       "        \n",
       "\n",
       "        marker_708bc052356fd974c133d3ea8dd4a94b.bindPopup(popup_2b01cc4a23ac78187d2980b81e24c872)\n",
       "        ;\n",
       "\n",
       "        \n",
       "    \n",
       "    \n",
       "            var marker_19d31031d592278b1b7b7281f0650243 = L.marker(\n",
       "                [40.6808988, -73.949839],\n",
       "                {}\n",
       "            ).addTo(map_5134471106dc0d7d89f08442736d4c43);\n",
       "        \n",
       "    \n",
       "        var popup_62ca9c1b443969cbd6394a80626aa087 = L.popup({&quot;maxWidth&quot;: &quot;100%&quot;});\n",
       "\n",
       "        \n",
       "            var html_8f51a9a169de834a89749ad18726a6f2 = $(`&lt;div id=&quot;html_8f51a9a169de834a89749ad18726a6f2&quot; style=&quot;width: 100.0%; height: 100.0%;&quot;&gt;Brooklyn&lt;/div&gt;`)[0];\n",
       "            popup_62ca9c1b443969cbd6394a80626aa087.setContent(html_8f51a9a169de834a89749ad18726a6f2);\n",
       "        \n",
       "\n",
       "        marker_19d31031d592278b1b7b7281f0650243.bindPopup(popup_62ca9c1b443969cbd6394a80626aa087)\n",
       "        ;\n",
       "\n",
       "        \n",
       "    \n",
       "    \n",
       "            var marker_f025bc3feb095a3cdb417691f8e295f6 = L.marker(\n",
       "                [40.7190882, -73.7296367],\n",
       "                {}\n",
       "            ).addTo(map_5134471106dc0d7d89f08442736d4c43);\n",
       "        \n",
       "    \n",
       "        var popup_7ede7a8164d55fecce04aa2e3f5629b4 = L.popup({&quot;maxWidth&quot;: &quot;100%&quot;});\n",
       "\n",
       "        \n",
       "            var html_87a99d936a47b7ef3587c168f3208fbb = $(`&lt;div id=&quot;html_87a99d936a47b7ef3587c168f3208fbb&quot; style=&quot;width: 100.0%; height: 100.0%;&quot;&gt;Queens&lt;/div&gt;`)[0];\n",
       "            popup_7ede7a8164d55fecce04aa2e3f5629b4.setContent(html_87a99d936a47b7ef3587c168f3208fbb);\n",
       "        \n",
       "\n",
       "        marker_f025bc3feb095a3cdb417691f8e295f6.bindPopup(popup_7ede7a8164d55fecce04aa2e3f5629b4)\n",
       "        ;\n",
       "\n",
       "        \n",
       "    \n",
       "    \n",
       "            var marker_c1856471c22fe4a13c4bf322d9f109bd = L.marker(\n",
       "                [40.84930445, -73.87713791835206],\n",
       "                {}\n",
       "            ).addTo(map_5134471106dc0d7d89f08442736d4c43);\n",
       "        \n",
       "    \n",
       "        var popup_84b375c44d57ca22dcb75694ec3de830 = L.popup({&quot;maxWidth&quot;: &quot;100%&quot;});\n",
       "\n",
       "        \n",
       "            var html_627b16c1070e3640bb961687a6605c94 = $(`&lt;div id=&quot;html_627b16c1070e3640bb961687a6605c94&quot; style=&quot;width: 100.0%; height: 100.0%;&quot;&gt;Bronx&lt;/div&gt;`)[0];\n",
       "            popup_84b375c44d57ca22dcb75694ec3de830.setContent(html_627b16c1070e3640bb961687a6605c94);\n",
       "        \n",
       "\n",
       "        marker_c1856471c22fe4a13c4bf322d9f109bd.bindPopup(popup_84b375c44d57ca22dcb75694ec3de830)\n",
       "        ;\n",
       "\n",
       "        \n",
       "    \n",
       "    \n",
       "            var marker_7f3adf0d316f0a2fa11647e61bedf8e3 = L.marker(\n",
       "                [40.58032585, -74.14224391542294],\n",
       "                {}\n",
       "            ).addTo(map_5134471106dc0d7d89f08442736d4c43);\n",
       "        \n",
       "    \n",
       "        var popup_5d85de43f60bb7ac422b565354b39e13 = L.popup({&quot;maxWidth&quot;: &quot;100%&quot;});\n",
       "\n",
       "        \n",
       "            var html_4cf7412b86fc5464fe46d008760138bf = $(`&lt;div id=&quot;html_4cf7412b86fc5464fe46d008760138bf&quot; style=&quot;width: 100.0%; height: 100.0%;&quot;&gt;Staten Island&lt;/div&gt;`)[0];\n",
       "            popup_5d85de43f60bb7ac422b565354b39e13.setContent(html_4cf7412b86fc5464fe46d008760138bf);\n",
       "        \n",
       "\n",
       "        marker_7f3adf0d316f0a2fa11647e61bedf8e3.bindPopup(popup_5d85de43f60bb7ac422b565354b39e13)\n",
       "        ;\n",
       "\n",
       "        \n",
       "    \n",
       "&lt;/script&gt;\" style=\"position:absolute;width:100%;height:100%;left:0;top:0;border:none !important;\" allowfullscreen webkitallowfullscreen mozallowfullscreen></iframe></div></div>"
      ],
      "text/plain": [
       "<folium.folium.Map at 0x7fcb9c3b1c40>"
      ]
     },
     "execution_count": 228,
     "metadata": {},
     "output_type": "execute_result"
    }
   ],
   "source": [
    "NewYork"
   ]
  },
  {
   "cell_type": "code",
   "execution_count": 230,
   "id": "6fb18785",
   "metadata": {},
   "outputs": [
    {
     "name": "stdout",
     "output_type": "stream",
     "text": [
      "0\n",
      "id                                               77765\n",
      "name                              Superior @ Box House\n",
      "host_id                                         417504\n",
      "host_name                          The Box House Hotel\n",
      "neighbourhood_group                           Brooklyn\n",
      "neighbourhood                               Greenpoint\n",
      "latitude                                      40.73777\n",
      "longitude                                    -73.95366\n",
      "room_type                                   Hotel room\n",
      "price                                              308\n",
      "minimum_nights                                       2\n",
      "number_of_reviews                                   42\n",
      "last_review                                 2022-07-18\n",
      "reviews_per_month                                  0.3\n",
      "calculated_host_listings_count                      30\n",
      "availability_365                                   217\n",
      "number_of_reviews_ltm                                4\n",
      "license                                            NaN\n",
      "Name: 0, dtype: object\n",
      "1\n",
      "id                                                              2539\n",
      "name                              Clean & quiet apt home by the park\n",
      "host_id                                                         2787\n",
      "host_name                                                       John\n",
      "neighbourhood_group                                         Brooklyn\n",
      "neighbourhood                                             Kensington\n",
      "latitude                                                    40.64529\n",
      "longitude                                                  -73.97238\n",
      "room_type                                               Private room\n",
      "price                                                            299\n",
      "minimum_nights                                                    30\n",
      "number_of_reviews                                                  9\n",
      "last_review                                               2018-10-19\n",
      "reviews_per_month                                               0.11\n",
      "calculated_host_listings_count                                     9\n",
      "availability_365                                                 356\n",
      "number_of_reviews_ltm                                              0\n",
      "license                                                          NaN\n",
      "Name: 1, dtype: object\n"
     ]
    }
   ],
   "source": [
    "for i,j in data[:2].iterrows():\n",
    "    print(i)\n",
    "    print(j)"
   ]
  },
  {
   "cell_type": "code",
   "execution_count": 231,
   "id": "c656e01a",
   "metadata": {},
   "outputs": [
    {
     "data": {
      "text/plain": [
       "neighbourhood_group\n",
       "Manhattan        16847\n",
       "Brooklyn         14845\n",
       "Queens            6175\n",
       "Bronx             1568\n",
       "Staten Island      446\n",
       "dtype: int64"
      ]
     },
     "execution_count": 231,
     "metadata": {},
     "output_type": "execute_result"
    }
   ],
   "source": [
    "data.value_counts('neighbourhood_group')\n"
   ]
  },
  {
   "cell_type": "code",
   "execution_count": 326,
   "id": "b42d9fd5",
   "metadata": {},
   "outputs": [
    {
     "data": {
      "text/plain": [
       "<folium.plugins.heat_map.HeatMap at 0x7fcba2174040>"
      ]
     },
     "execution_count": 326,
     "metadata": {},
     "output_type": "execute_result"
    }
   ],
   "source": [
    "manint=[dirman.lat,dirman.lng, 16847 ]\n",
    "broint=[dirbro.lat,dirbro.lng, 14845 ]\n",
    "queint=[dirque.lat,dirque.lng, 6175]\n",
    "brxint=[dirbrx.lat,dirbrx.lng, 1568]\n",
    "staint=[dirsta.lat,dirsta.lng, 446]\n",
    "\n",
    "neighints=[manint,broint,queint,brxint,staint]\n",
    "listingdensity=folium.Map(location=[40.689247,-74.044502], zoom_start= 10)\n",
    "\n",
    "plugins.HeatMap(neighints).add_to(listingdensity)\n",
    "\n"
   ]
  },
  {
   "cell_type": "markdown",
   "id": "220c6893",
   "metadata": {},
   "source": [
    "# Heatmap of Listings Density"
   ]
  },
  {
   "cell_type": "code",
   "execution_count": 327,
   "id": "7c3f8540",
   "metadata": {},
   "outputs": [
    {
     "data": {
      "text/html": [
       "<div style=\"width:100%;\"><div style=\"position:relative;width:100%;height:0;padding-bottom:60%;\"><span style=\"color:#565656\">Make this Notebook Trusted to load map: File -> Trust Notebook</span><iframe srcdoc=\"&lt;!DOCTYPE html&gt;\n",
       "&lt;head&gt;    \n",
       "    &lt;meta http-equiv=&quot;content-type&quot; content=&quot;text/html; charset=UTF-8&quot; /&gt;\n",
       "    \n",
       "        &lt;script&gt;\n",
       "            L_NO_TOUCH = false;\n",
       "            L_DISABLE_3D = false;\n",
       "        &lt;/script&gt;\n",
       "    \n",
       "    &lt;style&gt;html, body {width: 100%;height: 100%;margin: 0;padding: 0;}&lt;/style&gt;\n",
       "    &lt;style&gt;#map {position:absolute;top:0;bottom:0;right:0;left:0;}&lt;/style&gt;\n",
       "    &lt;script src=&quot;https://cdn.jsdelivr.net/npm/leaflet@1.6.0/dist/leaflet.js&quot;&gt;&lt;/script&gt;\n",
       "    &lt;script src=&quot;https://code.jquery.com/jquery-1.12.4.min.js&quot;&gt;&lt;/script&gt;\n",
       "    &lt;script src=&quot;https://maxcdn.bootstrapcdn.com/bootstrap/3.2.0/js/bootstrap.min.js&quot;&gt;&lt;/script&gt;\n",
       "    &lt;script src=&quot;https://cdnjs.cloudflare.com/ajax/libs/Leaflet.awesome-markers/2.0.2/leaflet.awesome-markers.js&quot;&gt;&lt;/script&gt;\n",
       "    &lt;link rel=&quot;stylesheet&quot; href=&quot;https://cdn.jsdelivr.net/npm/leaflet@1.6.0/dist/leaflet.css&quot;/&gt;\n",
       "    &lt;link rel=&quot;stylesheet&quot; href=&quot;https://maxcdn.bootstrapcdn.com/bootstrap/3.2.0/css/bootstrap.min.css&quot;/&gt;\n",
       "    &lt;link rel=&quot;stylesheet&quot; href=&quot;https://maxcdn.bootstrapcdn.com/bootstrap/3.2.0/css/bootstrap-theme.min.css&quot;/&gt;\n",
       "    &lt;link rel=&quot;stylesheet&quot; href=&quot;https://maxcdn.bootstrapcdn.com/font-awesome/4.6.3/css/font-awesome.min.css&quot;/&gt;\n",
       "    &lt;link rel=&quot;stylesheet&quot; href=&quot;https://cdnjs.cloudflare.com/ajax/libs/Leaflet.awesome-markers/2.0.2/leaflet.awesome-markers.css&quot;/&gt;\n",
       "    &lt;link rel=&quot;stylesheet&quot; href=&quot;https://cdn.jsdelivr.net/gh/python-visualization/folium/folium/templates/leaflet.awesome.rotate.min.css&quot;/&gt;\n",
       "    \n",
       "            &lt;meta name=&quot;viewport&quot; content=&quot;width=device-width,\n",
       "                initial-scale=1.0, maximum-scale=1.0, user-scalable=no&quot; /&gt;\n",
       "            &lt;style&gt;\n",
       "                #map_eea1337b7ce63fdb356faf014cb1efda {\n",
       "                    position: relative;\n",
       "                    width: 100.0%;\n",
       "                    height: 100.0%;\n",
       "                    left: 0.0%;\n",
       "                    top: 0.0%;\n",
       "                }\n",
       "            &lt;/style&gt;\n",
       "        \n",
       "    &lt;script src=&quot;https://cdn.jsdelivr.net/gh/python-visualization/folium@master/folium/templates/leaflet_heat.min.js&quot;&gt;&lt;/script&gt;\n",
       "&lt;/head&gt;\n",
       "&lt;body&gt;    \n",
       "    \n",
       "            &lt;div class=&quot;folium-map&quot; id=&quot;map_eea1337b7ce63fdb356faf014cb1efda&quot; &gt;&lt;/div&gt;\n",
       "        \n",
       "&lt;/body&gt;\n",
       "&lt;script&gt;    \n",
       "    \n",
       "            var map_eea1337b7ce63fdb356faf014cb1efda = L.map(\n",
       "                &quot;map_eea1337b7ce63fdb356faf014cb1efda&quot;,\n",
       "                {\n",
       "                    center: [40.689247, -74.044502],\n",
       "                    crs: L.CRS.EPSG3857,\n",
       "                    zoom: 10,\n",
       "                    zoomControl: true,\n",
       "                    preferCanvas: false,\n",
       "                }\n",
       "            );\n",
       "\n",
       "            \n",
       "\n",
       "        \n",
       "    \n",
       "            var tile_layer_3714ddbda52870b1321209df260fb40f = L.tileLayer(\n",
       "                &quot;https://{s}.tile.openstreetmap.org/{z}/{x}/{y}.png&quot;,\n",
       "                {&quot;attribution&quot;: &quot;Data by \\u0026copy; \\u003ca href=\\&quot;http://openstreetmap.org\\&quot;\\u003eOpenStreetMap\\u003c/a\\u003e, under \\u003ca href=\\&quot;http://www.openstreetmap.org/copyright\\&quot;\\u003eODbL\\u003c/a\\u003e.&quot;, &quot;detectRetina&quot;: false, &quot;maxNativeZoom&quot;: 18, &quot;maxZoom&quot;: 18, &quot;minZoom&quot;: 0, &quot;noWrap&quot;: false, &quot;opacity&quot;: 1, &quot;subdomains&quot;: &quot;abc&quot;, &quot;tms&quot;: false}\n",
       "            ).addTo(map_eea1337b7ce63fdb356faf014cb1efda);\n",
       "        \n",
       "    \n",
       "            var heat_map_74f02f589e6bdc4162e95a19deb25432 = L.heatLayer(\n",
       "                [[40.7827725, -73.9653627406542, 16847], [40.6808988, -73.949839, 14845], [40.7190882, -73.7296367, 6175], [40.84930445, -73.87713791835206, 1568], [40.58032585, -74.14224391542294, 446]],\n",
       "                {&quot;blur&quot;: 15, &quot;maxZoom&quot;: 18, &quot;minOpacity&quot;: 0.5, &quot;radius&quot;: 25}\n",
       "            ).addTo(map_eea1337b7ce63fdb356faf014cb1efda);\n",
       "        \n",
       "&lt;/script&gt;\" style=\"position:absolute;width:100%;height:100%;left:0;top:0;border:none !important;\" allowfullscreen webkitallowfullscreen mozallowfullscreen></iframe></div></div>"
      ],
      "text/plain": [
       "<folium.folium.Map at 0x7fcb9dd5cc10>"
      ]
     },
     "execution_count": 327,
     "metadata": {},
     "output_type": "execute_result"
    }
   ],
   "source": [
    "listingdensity"
   ]
  },
  {
   "cell_type": "markdown",
   "id": "49285c2f",
   "metadata": {},
   "source": [
    "# No. of Listings by Neighborhood"
   ]
  },
  {
   "cell_type": "code",
   "execution_count": 323,
   "id": "d121dd4b",
   "metadata": {},
   "outputs": [
    {
     "data": {
      "text/plain": [
       "Text(0.5, 1.0, 'No. of Listings by Neighborhood Group')"
      ]
     },
     "execution_count": 323,
     "metadata": {},
     "output_type": "execute_result"
    },
    {
     "data": {
      "image/png": "[encoded data removed]",
      "text/plain": [
       "<Figure size 432x288 with 1 Axes>"
      ]
     },
     "metadata": {
      "needs_background": "light"
     },
     "output_type": "display_data"
    }
   ],
   "source": [
    "fig=plt.hist(data['neighbourhood_group'], bins =10, color='orange',)\n",
    "plt.xlabel('Neighbourhood')\n",
    "plt.ylabel('No. of Listings')\n",
    "plt.title('No. of Listings by Neighborhood Group')\n"
   ]
  },
  {
   "cell_type": "markdown",
   "id": "ee8476f1",
   "metadata": {},
   "source": [
    "# Avg. Price by Neighborhood"
   ]
  },
  {
   "cell_type": "code",
   "execution_count": 234,
   "id": "a407c1e4",
   "metadata": {},
   "outputs": [
    {
     "data": {
      "text/html": [
       "<div>\n",
       "<style scoped>\n",
       "    .dataframe tbody tr th:only-of-type {\n",
       "        vertical-align: middle;\n",
       "    }\n",
       "\n",
       "    .dataframe tbody tr th {\n",
       "        vertical-align: top;\n",
       "    }\n",
       "\n",
       "    .dataframe thead th {\n",
       "        text-align: right;\n",
       "    }\n",
       "</style>\n",
       "<table border=\"1\" class=\"dataframe\">\n",
       "  <thead>\n",
       "    <tr style=\"text-align: right;\">\n",
       "      <th></th>\n",
       "      <th>price</th>\n",
       "    </tr>\n",
       "    <tr>\n",
       "      <th>neighbourhood_group</th>\n",
       "      <th></th>\n",
       "    </tr>\n",
       "  </thead>\n",
       "  <tbody>\n",
       "    <tr>\n",
       "      <th>Bronx</th>\n",
       "      <td>124.737245</td>\n",
       "    </tr>\n",
       "    <tr>\n",
       "      <th>Brooklyn</th>\n",
       "      <td>157.927114</td>\n",
       "    </tr>\n",
       "    <tr>\n",
       "      <th>Manhattan</th>\n",
       "      <td>264.933341</td>\n",
       "    </tr>\n",
       "    <tr>\n",
       "      <th>Queens</th>\n",
       "      <td>131.365506</td>\n",
       "    </tr>\n",
       "    <tr>\n",
       "      <th>Staten Island</th>\n",
       "      <td>143.163677</td>\n",
       "    </tr>\n",
       "  </tbody>\n",
       "</table>\n",
       "</div>"
      ],
      "text/plain": [
       "                          price\n",
       "neighbourhood_group            \n",
       "Bronx                124.737245\n",
       "Brooklyn             157.927114\n",
       "Manhattan            264.933341\n",
       "Queens               131.365506\n",
       "Staten Island        143.163677"
      ]
     },
     "execution_count": 234,
     "metadata": {},
     "output_type": "execute_result"
    }
   ],
   "source": [
    "pivot = pd.pivot_table(data=data, index=['neighbourhood_group'], values=['price']) \n",
    "pivot"
   ]
  },
  {
   "cell_type": "code",
   "execution_count": 321,
   "id": "af8d832a",
   "metadata": {},
   "outputs": [
    {
     "data": {
      "text/plain": [
       "Text(0.5, 1.0, 'Avg.Price by Neighborhood Group')"
      ]
     },
     "execution_count": 321,
     "metadata": {},
     "output_type": "execute_result"
    },
    {
     "data": {
      "image/png": "[encoded data removed]",
      "text/plain": [
       "<Figure size 432x288 with 1 Axes>"
      ]
     },
     "metadata": {
      "needs_background": "light"
     },
     "output_type": "display_data"
    }
   ],
   "source": [
    "pivot.plot(kind='bar',xlabel = 'Neighborhood Group',ylabel = 'Avg. Price', color='pink')\n",
    "plt.title('Avg.Price by Neighborhood Group')\n"
   ]
  },
  {
   "cell_type": "markdown",
   "id": "20cc72cc",
   "metadata": {},
   "source": [
    "# Price Range Concentration"
   ]
  },
  {
   "cell_type": "code",
   "execution_count": 318,
   "id": "d3044e4b",
   "metadata": {
    "scrolled": true
   },
   "outputs": [
    {
     "data": {
      "text/plain": [
       "Text(0.5, 1.0, 'BoxPlot of Price Range Concentration')"
      ]
     },
     "execution_count": 318,
     "metadata": {},
     "output_type": "execute_result"
    },
    {
     "data": {
      "image/png": "[encoded data removed]",
      "text/plain": [
       "<Figure size 432x288 with 1 Axes>"
      ]
     },
     "metadata": {
      "needs_background": "light"
     },
     "output_type": "display_data"
    }
   ],
   "source": [
    "sns.boxplot(data=data, y=\"price\",showfliers=False, hue=['neighbourhood_group'],color='orange')\n",
    "\n",
    "plt.ylabel('Price Range')\n",
    "plt.title('BoxPlot of Price Range Concentration')\n",
    "\n"
   ]
  },
  {
   "cell_type": "markdown",
   "id": "d37337ea",
   "metadata": {},
   "source": [
    "# Avg. Price by Room Type "
   ]
  },
  {
   "cell_type": "code",
   "execution_count": 242,
   "id": "d8954b9f",
   "metadata": {},
   "outputs": [],
   "source": [
    "histo= data.pivot_table(index=['room_type'], values=['price'])\n"
   ]
  },
  {
   "cell_type": "code",
   "execution_count": 256,
   "id": "d13a0413",
   "metadata": {
    "scrolled": true
   },
   "outputs": [
    {
     "data": {
      "text/html": [
       "<div>\n",
       "<style scoped>\n",
       "    .dataframe tbody tr th:only-of-type {\n",
       "        vertical-align: middle;\n",
       "    }\n",
       "\n",
       "    .dataframe tbody tr th {\n",
       "        vertical-align: top;\n",
       "    }\n",
       "\n",
       "    .dataframe thead th {\n",
       "        text-align: right;\n",
       "    }\n",
       "</style>\n",
       "<table border=\"1\" class=\"dataframe\">\n",
       "  <thead>\n",
       "    <tr style=\"text-align: right;\">\n",
       "      <th></th>\n",
       "      <th>price</th>\n",
       "    </tr>\n",
       "    <tr>\n",
       "      <th>room_type</th>\n",
       "      <th></th>\n",
       "    </tr>\n",
       "  </thead>\n",
       "  <tbody>\n",
       "    <tr>\n",
       "      <th>Shared room</th>\n",
       "      <td>119.398564</td>\n",
       "    </tr>\n",
       "    <tr>\n",
       "      <th>Private room</th>\n",
       "      <td>122.936495</td>\n",
       "    </tr>\n",
       "    <tr>\n",
       "      <th>Entire home/apt</th>\n",
       "      <td>251.546022</td>\n",
       "    </tr>\n",
       "    <tr>\n",
       "      <th>Hotel room</th>\n",
       "      <td>371.648515</td>\n",
       "    </tr>\n",
       "  </tbody>\n",
       "</table>\n",
       "</div>"
      ],
      "text/plain": [
       "                      price\n",
       "room_type                  \n",
       "Shared room      119.398564\n",
       "Private room     122.936495\n",
       "Entire home/apt  251.546022\n",
       "Hotel room       371.648515"
      ]
     },
     "execution_count": 256,
     "metadata": {},
     "output_type": "execute_result"
    }
   ],
   "source": [
    "histo.sort_values(by='price',ascending=True,)"
   ]
  },
  {
   "cell_type": "code",
   "execution_count": 258,
   "id": "c5e9ca0c",
   "metadata": {},
   "outputs": [
    {
     "data": {
      "text/plain": [
       "Text(0.5, 1.0, 'Avg. Price by Type of Listing')"
      ]
     },
     "execution_count": 258,
     "metadata": {},
     "output_type": "execute_result"
    },
    {
     "data": {
      "image/png": "[encoded data removed]",
      "text/plain": [
       "<Figure size 432x288 with 1 Axes>"
      ]
     },
     "metadata": {
      "needs_background": "light"
     },
     "output_type": "display_data"
    }
   ],
   "source": [
    "histo.plot.bar(color='pink')\n",
    "plt.xlabel('Type of listing')\n",
    "plt.ylabel('Avg. Price')\n",
    "plt.title('Avg. Price by Type of Listing')\n"
   ]
  },
  {
   "cell_type": "markdown",
   "id": "a50f4605",
   "metadata": {},
   "source": [
    "# Price vs No. of Reviews by Room Type "
   ]
  },
  {
   "cell_type": "code",
   "execution_count": 296,
   "id": "1f88c341",
   "metadata": {},
   "outputs": [],
   "source": [
    "entirehome= data[data['room_type'] == 'Entire home/apt']\n",
    "hotelroom=data[data['room_type'] == 'Hotel room']\n",
    "privateroom=data[data['room_type'] == 'Private room']\n",
    "sharedroom=data[data['room_type'] == 'Shared room']"
   ]
  },
  {
   "cell_type": "code",
   "execution_count": 324,
   "id": "2fb4e3fd",
   "metadata": {},
   "outputs": [
    {
     "data": {
      "text/plain": [
       "Text(0, 0.5, 'No. of Reviews')"
      ]
     },
     "execution_count": 324,
     "metadata": {},
     "output_type": "execute_result"
    },
    {
     "data": {
      "image/png": "[encoded data removed]",
      "text/plain": [
       "<Figure size 720x720 with 4 Axes>"
      ]
     },
     "metadata": {
      "needs_background": "light"
     },
     "output_type": "display_data"
    }
   ],
   "source": [
    "plt.figure(figsize=(10,10))\n",
    "plt.subplot(2, 2, 1)\n",
    "plt.scatter(entirehome['price'], entirehome['number_of_reviews'], c='pink') \n",
    "plt.title('Entire Home')\n",
    "plt.xlabel('Price')\n",
    "plt.ylabel('No. of Reviews')\n",
    "\n",
    "plt.subplot(2, 2, 2)\n",
    "plt.scatter(hotelroom['price'], hotelroom['number_of_reviews'], c='red') \n",
    "plt.title('Hotel Room')\n",
    "plt.xlabel('Price')\n",
    "plt.ylabel('No. of Reviews')\n",
    "\n",
    "plt.subplot(2, 2, 3)\n",
    "plt.scatter(privateroom['price'], privateroom['number_of_reviews'], c='orange') \n",
    "plt.title('Private Room')\n",
    "plt.xlabel('Price')\n",
    "plt.ylabel('No. of Reviews')\n",
    "\n",
    "plt.subplot(2, 2, 4)\n",
    "plt.scatter(sharedroom['price'], sharedroom['number_of_reviews'], c='yellow') \n",
    "plt.title('Shared Room')\n",
    "plt.xlabel('Price')\n",
    "plt.ylabel('No. of Reviews')"
   ]
  },
  {
   "cell_type": "markdown",
   "id": "780e8cac",
   "metadata": {},
   "source": [
    "# Is There a Correlation Between Price, Minimum Stay & Availability of Listings?"
   ]
  },
  {
   "cell_type": "code",
   "execution_count": 237,
   "id": "c6e63801",
   "metadata": {
    "scrolled": true
   },
   "outputs": [
    {
     "data": {
      "text/plain": [
       "Text(0.5, 1.0, 'Correlation of Price, Minimum Nights, Avalability')"
      ]
     },
     "execution_count": 237,
     "metadata": {},
     "output_type": "execute_result"
    },
    {
     "data": {
      "image/png": "[encoded data removed]",
      "text/plain": [
       "<Figure size 432x288 with 2 Axes>"
      ]
     },
     "metadata": {
      "needs_background": "light"
     },
     "output_type": "display_data"
    }
   ],
   "source": [
    "sns.heatmap(data[['price', 'minimum_nights', 'availability_365']].corr(), vmin=-1, vmax=1, annot=True)\n",
    "plt.title('Correlation of Price, Minimum Nights, Avalability')\n"
   ]
  }
 ],
 "metadata": {
  "kernelspec": {
   "display_name": "Python 3 (ipykernel)",
   "language": "python",
   "name": "python3"
  },
  "language_info": {
   "codemirror_mode": {
    "name": "ipython",
    "version": 3
   },
   "file_extension": ".py",
   "mimetype": "text/x-python",
   "name": "python",
   "nbconvert_exporter": "python",
   "pygments_lexer": "ipython3",
   "version": "3.9.12"
  }
 },
 "nbformat": 4,
 "nbformat_minor": 5
}
